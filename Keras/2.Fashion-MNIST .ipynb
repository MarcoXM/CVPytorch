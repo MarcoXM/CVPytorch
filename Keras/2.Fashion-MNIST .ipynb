{
 "cells": [
  {
   "cell_type": "markdown",
   "metadata": {},
   "source": [
    "# Classifying Fashion-MNIST\n",
    "\n",
    "[Fashion-MNIST dataset](https://github.com/zalandoresearch/fashion-mnist), Fashion-MNIST是一套28x28灰度图像的衣服。它比MNIST更复杂，因此它可以更好地表示网络的实际性能，并更好地表示您将在现实世界中使用的数据集。\n",
    "\n",
    "<img src='assets/fashion-mnist-sprite.png' width=500px>\n",
    "\n",
    "各种衣服那么多~"
   ]
  },
  {
   "cell_type": "code",
   "execution_count": null,
   "metadata": {},
   "outputs": [],
   "source": [
    "from keras.datasets import fashion_mnist\n",
    "import numpy as np\n",
    "\n",
    "(x_train, y_train), (x_test, y_test) = fashion_mnist.load_data()"
   ]
  },
  {
   "cell_type": "code",
   "execution_count": 2,
   "metadata": {},
   "outputs": [],
   "source": [
    "import matplotlib.pyplot as plt\n",
    "def imshow(image, ax=None, title=None, normalize=True):\n",
    "    fig = plt.figure(figsize = (3,3),dpi=300) \n",
    "    ax = fig.add_subplot(111)\n",
    "    if normalize:\n",
    "        mean = np.array([0.485, 0.456, 0.406])\n",
    "        std = np.array([0.229, 0.224, 0.225])\n",
    "        image = std * image + mean\n",
    "        image = np.clip(image, 0, 1)\n",
    "\n",
    "    ax.imshow(image,cmap='gray')\n",
    "    ax.spines['top'].set_visible(False)\n",
    "    ax.spines['right'].set_visible(False)\n",
    "    ax.spines['left'].set_visible(False)\n",
    "    ax.spines['bottom'].set_visible(False)\n",
    "    ax.tick_params(axis='both', length=0)\n",
    "    ax.set_xticklabels('')\n",
    "    ax.set_yticklabels('')\n",
    "\n",
    "    return ax"
   ]
  },
  {
   "cell_type": "markdown",
   "metadata": {},
   "source": [
    "Here we can see one of the images."
   ]
  },
  {
   "cell_type": "code",
   "execution_count": 4,
   "metadata": {},
   "outputs": [
    {
     "data": {
      "image/png": "[encoded data removed]",
      "text/plain": [
       "<Figure size 900x900 with 1 Axes>"
      ]
     },
     "metadata": {
      "needs_background": "light"
     },
     "output_type": "display_data"
    }
   ],
   "source": [
    "# trainloader 是一个gennerater ，我们要读取它的信息，我们就要iter 它出来\n",
    "# 前图，后对应的label \n",
    "image, label = x_train[0],y_train[0]\n",
    "\n",
    "#使用helper的 imshow 功能读取，我们的第一张图片，这是一件xx！\n",
    "imshow(image,normalize=None);"
   ]
  },
  {
   "cell_type": "markdown",
   "metadata": {},
   "source": [
    "## Building the network\n",
    "\n",
    "Here you should define your network. As with MNIST, each image is 28x28 which is a total of 784 pixels, and there are 10 classes. You should include at least one hidden layer. We suggest you use ReLU activations for the layers and to return the logits or log-softmax from the forward pass. It's up to you how many layers you add and the size of those layers."
   ]
  },
  {
   "cell_type": "code",
   "execution_count": 5,
   "metadata": {},
   "outputs": [
    {
     "name": "stdout",
     "output_type": "stream",
     "text": [
      "WARNING:tensorflow:From /anaconda3/envs/tf/lib/python3.7/site-packages/tensorflow/python/framework/op_def_library.py:263: colocate_with (from tensorflow.python.framework.ops) is deprecated and will be removed in a future version.\n",
      "Instructions for updating:\n",
      "Colocations handled automatically by placer.\n",
      "_________________________________________________________________\n",
      "Layer (type)                 Output Shape              Param #   \n",
      "=================================================================\n",
      "flatten_1 (Flatten)          (None, 784)               0         \n",
      "_________________________________________________________________\n",
      "dense_1 (Dense)              (None, 512)               401920    \n",
      "_________________________________________________________________\n",
      "dense_2 (Dense)              (None, 256)               131328    \n",
      "_________________________________________________________________\n",
      "dense_3 (Dense)              (None, 64)                16448     \n",
      "_________________________________________________________________\n",
      "dense_4 (Dense)              (None, 10)                650       \n",
      "=================================================================\n",
      "Total params: 550,346\n",
      "Trainable params: 550,346\n",
      "Non-trainable params: 0\n",
      "_________________________________________________________________\n"
     ]
    }
   ],
   "source": [
    "from keras.models import Sequential\n",
    "from keras.layers import Dense, Dropout, Flatten\n",
    "\n",
    "net = Sequential()\n",
    "net.add(Flatten(input_shape = (28,28)))\n",
    "net.add(Dense(512,activation = 'relu'))\n",
    "net.add(Dense(256,activation = 'relu'))\n",
    "net.add(Dense(64,activation = 'relu'))\n",
    "net.add(Dense(10,activation = 'softmax'))\n",
    "net.summary()\n",
    "        \n",
    "        "
   ]
  },
  {
   "cell_type": "markdown",
   "metadata": {},
   "source": [
    "# Train the network\n",
    "\n",
    "我们把网络搭建好了，剩下的首先是要去定义我们的loss function [the criterion](http://pytorch.org/docs/master/nn.html#loss-functions) ( 我们这是一个Multi-classification Problem  `nn.CrossEntropyLoss`) and [the optimizer](http://pytorch.org/docs/master/optim.html) (优化器的意思是我们调整parameter的方式 `optim.SGD` or `optim.Adam`).\n"
   ]
  },
  {
   "cell_type": "code",
   "execution_count": 6,
   "metadata": {},
   "outputs": [],
   "source": [
    "net.compile(loss= 'categorical_crossentropy', optimizer = 'adam',metrics = ['accuracy'])"
   ]
  },
  {
   "cell_type": "code",
   "execution_count": 7,
   "metadata": {},
   "outputs": [
    {
     "name": "stdout",
     "output_type": "stream",
     "text": [
      "(60000, 10)\n",
      "(10000, 10)\n"
     ]
    }
   ],
   "source": [
    "import keras\n",
    "from keras.utils import np_utils\n",
    "\n",
    "# one-hot encode the labels\n",
    "num_classes = len(np.unique(y_train))\n",
    "y_train = keras.utils.to_categorical(y_train, num_classes)\n",
    "y_test = keras.utils.to_categorical(y_test, num_classes)\n",
    "print(y_train.shape)\n",
    "print(y_test.shape)"
   ]
  },
  {
   "cell_type": "code",
   "execution_count": null,
   "metadata": {},
   "outputs": [
    {
     "name": "stdout",
     "output_type": "stream",
     "text": [
      "Train on 48000 samples, validate on 12000 samples\n",
      "Epoch 1/50\n",
      " - 7s - loss: 0.5192 - acc: 0.8146 - val_loss: 0.4005 - val_acc: 0.8512\n",
      "\n",
      "Epoch 00001: val_loss improved from inf to 0.40053, saving model to fashionmlp.weights.best.hdf5\n",
      "Epoch 2/50\n",
      " - 6s - loss: 0.3600 - acc: 0.8684 - val_loss: 0.3578 - val_acc: 0.8698\n",
      "\n",
      "Epoch 00002: val_loss improved from 0.40053 to 0.35780, saving model to fashionmlp.weights.best.hdf5\n",
      "Epoch 3/50\n",
      " - 7s - loss: 0.3248 - acc: 0.8802 - val_loss: 0.3430 - val_acc: 0.8772\n",
      "\n",
      "Epoch 00003: val_loss improved from 0.35780 to 0.34295, saving model to fashionmlp.weights.best.hdf5\n",
      "Epoch 4/50\n",
      " - 7s - loss: 0.2998 - acc: 0.8897 - val_loss: 0.3345 - val_acc: 0.8782\n",
      "\n",
      "Epoch 00004: val_loss improved from 0.34295 to 0.33454, saving model to fashionmlp.weights.best.hdf5\n",
      "Epoch 5/50\n",
      " - 7s - loss: 0.2832 - acc: 0.8940 - val_loss: 0.3274 - val_acc: 0.8847\n",
      "\n",
      "Epoch 00005: val_loss improved from 0.33454 to 0.32743, saving model to fashionmlp.weights.best.hdf5\n",
      "Epoch 6/50\n",
      " - 7s - loss: 0.2690 - acc: 0.8993 - val_loss: 0.3340 - val_acc: 0.8809\n",
      "\n",
      "Epoch 00006: val_loss did not improve from 0.32743\n",
      "Epoch 7/50\n",
      " - 7s - loss: 0.2572 - acc: 0.9025 - val_loss: 0.3260 - val_acc: 0.8855\n",
      "\n",
      "Epoch 00007: val_loss improved from 0.32743 to 0.32604, saving model to fashionmlp.weights.best.hdf5\n",
      "Epoch 8/50\n",
      " - 7s - loss: 0.2453 - acc: 0.9084 - val_loss: 0.3287 - val_acc: 0.8885\n",
      "\n",
      "Epoch 00008: val_loss did not improve from 0.32604\n",
      "Epoch 9/50\n",
      " - 7s - loss: 0.2365 - acc: 0.9118 - val_loss: 0.3110 - val_acc: 0.8904\n",
      "\n",
      "Epoch 00009: val_loss improved from 0.32604 to 0.31096, saving model to fashionmlp.weights.best.hdf5\n",
      "Epoch 10/50\n"
     ]
    }
   ],
   "source": [
    "from keras.callbacks import ModelCheckpoint   \n",
    "\n",
    "# train the model\n",
    "checkpointer = ModelCheckpoint(filepath='fashionmlp.weights.best.hdf5', verbose=1, \n",
    "                               save_best_only=True)\n",
    "\n",
    "hist = net.fit(x_train, y_train, batch_size=64, epochs=50,\n",
    "          validation_split=0.2, callbacks=[checkpointer], \n",
    "          verbose=2, shuffle=True)"
   ]
  },
  {
   "cell_type": "markdown",
   "metadata": {},
   "source": [
    "### 我们可以看到Loss 在不断地下降，我们的神经网络确实在不断地进步！"
   ]
  },
  {
   "cell_type": "code",
   "execution_count": null,
   "metadata": {},
   "outputs": [],
   "source": [
    "%matplotlib inline\n",
    "%config InlineBackend.figure_format = 'retina'\n",
    "\n",
    "# Test out your network!\n",
    "\n",
    "y_hat = net.predict_on_batch(x_test)\n",
    "\n",
    "img = x_test[0]\n",
    "\n",
    "classes = ['T-shirt/top', 'Trouser', 'Pullover','Dress', 'Coat', 'Sandal', 'Shirt', 'Sneaker', 'Bag','Ankle boot']\n",
    "\n",
    "print(classes[np.argmax(y_test[0],axis=0)])\n",
    "pred = np.argmax(y_hat[0],axis=0)\n",
    "print(classes[pred])\n",
    "\n",
    "fig,(ax1,ax2) = plt.subplots(figsize = (10,5),ncols = 2)\n",
    "ax1.imshow(img,cmap='gray')\n",
    "ax1.axis('off')\n",
    "ax2.barh(np.arange(10),y_hat[0])\n",
    "ax2.set_yticks(np.arange(10))\n",
    "ax2.set_yticklabels(['T-shirt/top',\n",
    "                            'Trouser',\n",
    "                            'Pullover',\n",
    "                            'Dress',\n",
    "                            'Coat',\n",
    "                            'Sandal',\n",
    "                            'Shirt',\n",
    "                            'Sneaker',\n",
    "                            'Bag',\n",
    "                            'Ankle Boot'], size='small')\n",
    "ax2.set_title('Class Probability')\n",
    "ax2.set_xlim(0, 1.1)\n",
    "\n",
    "## Actually it is a Ankle boot!"
   ]
  },
  {
   "cell_type": "markdown",
   "metadata": {},
   "source": [
    "### 可视化的结果如上"
   ]
  },
  {
   "cell_type": "code",
   "execution_count": null,
   "metadata": {},
   "outputs": [],
   "source": [
    "### Test 结果，我们将训练好的model 对用test 进行检测\n",
    "### 我们来看看我们这个model 有什么惊人的成绩， 经过50次迭代以后 ！\n",
    "all_pred = np.argmax(y_hat,axis=1)\n",
    "\n",
    "for images, labels in testloader: \n",
    "    # 换汤不换药 \n",
    "    output = net(images)\n",
    "\n",
    "    loss = criterion(output, labels)\n",
    "\n",
    "    test_loss += loss.item() * labels.size(0) # 这里都是算我们的loss ，补充一下，size(0)就是我们的第一个维度，batch size\n",
    "\n",
    "    \n",
    "    _, pred = torch.max(output, 1) # 我们这个max 会返回，最大值和它所在的位置\n",
    "    # pred 代表的就是哪一个node，就是我们最终选的数字是啥！\n",
    "    \n",
    "    correct = np.squeeze(pred.eq(labels.data.view_as(pred)))\n",
    "    \n",
    "    # 每一个结果，照着10个class 一个个看\n",
    "    for i in range(len(labels)): \n",
    "        label = labels.data[i]\n",
    "        class_correct[label] += correct[i].item()\n",
    "        class_total[label] += 1\n",
    "\n",
    "# 跳出循环后，算平均的loss score ，可以和我们的 training比比啊~\n",
    "test_loss = test_loss/len(testloader.sampler)\n",
    "print('Test Loss: {:.6f}\\n'.format(test_loss))\n",
    "\n",
    "#看每一个分类的结果!\n",
    "for i in range(10):\n",
    "    if class_total[i] > 0:\n",
    "        print('Test Accuracy of %5s: %2d%% (%2d/%2d)' % (\n",
    "            classes[i], # 对应的阿拉伯数字 \n",
    "            100 * class_correct[i] / class_total[i], # 对应的做出的选择然后是对的！\n",
    "            np.sum(class_correct[i]), np.sum(class_total[i]))) # 打印选择的次数啥啥的 \n",
    "    else:\n",
    "        print('Test Accuracy of %5s: N/A (no training examples)' % (classes[i]))\n",
    "\n",
    "print('\\nTest Accuracy (Overall): %2d%% (%2d/%2d)' % (\n",
    "    100. * np.sum(class_correct) / np.sum(class_total), # 这里total 就是accuracy ！！ 请问上面的是什么指标呢，每个class？\n",
    "    np.sum(class_correct), np.sum(class_total)))"
   ]
  },
  {
   "cell_type": "code",
   "execution_count": null,
   "metadata": {},
   "outputs": [],
   "source": [
    "#结果可视化！\n",
    "\n",
    "import matplotlib.pyplot as plt\n",
    "dataiter = iter(testloader)\n",
    "images, labels = dataiter.next()\n",
    "images.numpy()#我们要作图的话，不能直接用tensor\n",
    "\n",
    "\n",
    "\n",
    "# 使用model 做出predict\n",
    "output = net(images)\n",
    "\n",
    "_, preds_tensor = torch.max(output, 1)\n",
    "preds = preds_tensor.numpy()\n",
    "\n",
    "\n",
    "fig = plt.figure(figsize=(25, 4))\n",
    "for idx in range(20):\n",
    "    ax = fig.add_subplot(2, 20/2, idx+1, xticks=[], yticks=[])\n",
    "    ax.imshow(np.squeeze(images[idx]),cmap = 'gray')\n",
    "    ax.set_title(\"{} ({})\".format(classes[preds[idx]], classes[labels[idx]]),\n",
    "                 color=(\"green\" if preds[idx]==labels[idx].item() else \"red\"))\n",
    "    \n",
    "## 一张张打印出来，然后看看结果"
   ]
  },
  {
   "cell_type": "code",
   "execution_count": null,
   "metadata": {},
   "outputs": [],
   "source": []
  }
 ],
 "metadata": {
  "kernelspec": {
   "display_name": "Python 3",
   "language": "python",
   "name": "python3"
  },
  "language_info": {
   "codemirror_mode": {
    "name": "ipython",
    "version": 3
   },
   "file_extension": ".py",
   "mimetype": "text/x-python",
   "name": "python",
   "nbconvert_exporter": "python",
   "pygments_lexer": "ipython3",
   "version": "3.7.3"
  }
 },
 "nbformat": 4,
 "nbformat_minor": 2
}
